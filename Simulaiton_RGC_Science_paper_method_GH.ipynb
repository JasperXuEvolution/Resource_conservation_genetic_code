{
 "cells": [
  {
   "cell_type": "code",
   "execution_count": 1,
   "metadata": {},
   "outputs": [],
   "source": [
    "import numpy as np\n",
    "import statistics as ST\n",
    "import pandas as pd\n",
    "import scipy.stats\n",
    "import random\n",
    "import copy\n",
    "import time\n",
    "import itertools\n",
    "import pandas as pd"
   ]
  },
  {
   "cell_type": "code",
   "execution_count": 4,
   "metadata": {},
   "outputs": [],
   "source": [
    "#set the number of random genetic code\n",
    "N=1e6\n",
    "# output address\n",
    "Path_ab2=\"Data/\"\n",
    "output_address=Path_ab2+\"New_RGC_1e6\""
   ]
  },
  {
   "cell_type": "code",
   "execution_count": 7,
   "metadata": {},
   "outputs": [],
   "source": [
    "Final_array=[]\n",
    "while len(Final_array)<N:\n",
    "    # generate random order of the 16 blocks\n",
    "    temp=random.sample(range(0,16), 16 )\n",
    "\n",
    "    # find the position of blocks of two stop codon\n",
    "    p1=temp.index(3)\n",
    "    p2=temp.index(4)\n",
    "    # Get the integer part and remainder part of p1 or p2 divided by 4\n",
    "    p1_integer=p1//4\n",
    "    p1_remainder=p1%4\n",
    "\n",
    "    p2_integer=p2//4\n",
    "    p2_remainder=p2%4\n",
    "\n",
    "    # this part is checking if the two block of stop codon are different by one transition mutation\n",
    "    # This is checking the scenario where two block are in the same row\n",
    "    if p1_integer==p2_integer:\n",
    "        if (p1_remainder+p2_remainder==5) | (p1_remainder+p2_remainder==1):\n",
    "            Final_array.append(temp)\n",
    "    # This is checking the scenario where two block are in the same column        \n",
    "    elif p1_remainder==p2_remainder:\n",
    "        if (p1_integer+p2_integer==5) | (p1_integer+p2_integer==1):\n",
    "            Final_array.append(temp)   "
   ]
  },
  {
   "cell_type": "code",
   "execution_count": 6,
   "metadata": {},
   "outputs": [],
   "source": [
    "file_a=open(output_address,'w')\n",
    "for x in Final_array:\n",
    "    stringtowrite=\"{}\\n\".format(','.join(str(sub_x) for sub_x in x))\n",
    "    file_a.write(stringtowrite)\n",
    "file_a.close()"
   ]
  },
  {
   "cell_type": "code",
   "execution_count": null,
   "metadata": {},
   "outputs": [],
   "source": []
  }
 ],
 "metadata": {
  "kernelspec": {
   "display_name": "Python 3",
   "language": "python",
   "name": "python3"
  },
  "language_info": {
   "codemirror_mode": {
    "name": "ipython",
    "version": 3
   },
   "file_extension": ".py",
   "mimetype": "text/x-python",
   "name": "python",
   "nbconvert_exporter": "python",
   "pygments_lexer": "ipython3",
   "version": "3.7.6"
  }
 },
 "nbformat": 4,
 "nbformat_minor": 4
}
