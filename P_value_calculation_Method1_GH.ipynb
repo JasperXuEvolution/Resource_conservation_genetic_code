{
 "cells": [
  {
   "cell_type": "markdown",
   "metadata": {},
   "source": [
    "**This notebook calculate the nERMC using the S&Z's method for simulating RGCs**"
   ]
  },
  {
   "cell_type": "code",
   "execution_count": 2,
   "metadata": {},
   "outputs": [],
   "source": [
    "import numpy as np\n",
    "import statistics as ST\n",
    "import pandas as pd\n",
    "import scipy.stats\n",
    "import random\n",
    "import copy\n",
    "import time\n",
    "import itertools\n",
    "import pandas as pd\n",
    "import matplotlib.pyplot as plt\n",
    "import os\n",
    "from matplotlib import colors"
   ]
  },
  {
   "cell_type": "markdown",
   "metadata": {},
   "source": [
    "##  **0. Functions required**"
   ]
  },
  {
   "cell_type": "code",
   "execution_count": 51,
   "metadata": {},
   "outputs": [],
   "source": [
    "def new_property_matrix_generator(list_order,property_dictionary):\n",
    "# This function will take a list of short AA names (represent the permutated UGC table) and property dictionary to generate a AA property matrix\n",
    "    temp_matrix=[]\n",
    "    for aa_short_name in list_order:\n",
    "        temp_matrix.append(property_dictionary[aa_short_name])\n",
    "    return(np.array(temp_matrix))"
   ]
  },
  {
   "cell_type": "code",
   "execution_count": 52,
   "metadata": {},
   "outputs": [],
   "source": [
    "# This function will do the point mutation for given sequence and depend on the given position\n",
    "def point_mutation(input_codon,position):\n",
    "    ref_set={'A','C','G','T'}-{input_codon[position-1]}\n",
    "    o_list=[]\n",
    "    if position==1:\n",
    "        for x in ref_set:\n",
    "            o_list.append(x+input_codon[1:])\n",
    "    if position==2:\n",
    "        for x in ref_set:\n",
    "            o_list.append(input_codon[0]+x+input_codon[2])\n",
    "    if position==3:\n",
    "        for x in ref_set:\n",
    "            o_list.append(input_codon[:2]+x)\n",
    "    return(o_list)"
   ]
  },
  {
   "cell_type": "code",
   "execution_count": 53,
   "metadata": {},
   "outputs": [],
   "source": [
    "def Ts_Tv_position_matrix_generator(mutation_pairs,alpha,beta):\n",
    "# This function with take a list of mutation pairs with length L, the transition to transversion bias alpha,\n",
    "# and the position bias beta to generate a LxL matrix with only diagnal element\n",
    "    Ts_Tv_dic=[set(['A','G']),set(['T','C'])]# This list include all the position transition pair\n",
    "    weight_vector=[]\n",
    "    for x in mutation_pairs:\n",
    "        temp_counter=1\n",
    "        for a,b in zip(x[0],x[1]):# loop over two codons in the pair and find the mistmatch position and nucleotide\n",
    "            if a!=b:\n",
    "                temp1=a\n",
    "                temp2=b\n",
    "                break\n",
    "            else:\n",
    "                temp_counter+=1\n",
    "        temp_set={temp1,temp2}\n",
    "        if temp_set in Ts_Tv_dic:\n",
    "            weight=alpha[temp_counter]*beta[temp_counter]\n",
    "        else:\n",
    "            weight=1*beta[temp_counter]\n",
    "        weight_vector.append(weight)\n",
    "    return( np.diag(weight_vector))"
   ]
  },
  {
   "cell_type": "code",
   "execution_count": 54,
   "metadata": {},
   "outputs": [],
   "source": [
    "def mutation_matrix_generator_science(mutation_pairs):\n",
    "# This function take into a list of mutation pairs, generate a matrix according to the UGC_table\n",
    "    codon_to_order={}\n",
    "    for x ,y in zip(UGC_table.keys(),range(64)):\n",
    "        codon_to_order[x]=y\n",
    "    temp_matrix=[]\n",
    "    for x in mutation_pairs:\n",
    "        p1=codon_to_order[x[0]]\n",
    "        p2=codon_to_order[x[1]]\n",
    "        temp_vector=[0] * 64\n",
    "        if p1!=p2:\n",
    "            temp_vector[p1]=1\n",
    "            temp_vector[p2]=-1\n",
    "        temp_matrix.append(temp_vector)\n",
    "    return(np.array(temp_matrix))"
   ]
  },
  {
   "cell_type": "code",
   "execution_count": 55,
   "metadata": {},
   "outputs": [],
   "source": [
    "def block_matrix_generator_science(new_block_order,aa_list):\n",
    "# This function take into a list of new block order and aa_list order\n",
    "    block_matrix=[]\n",
    "    for x in new_block_order:\n",
    "        temp_vector=[0] * 21\n",
    "        # this is find each codon correspond to which AA\n",
    "        temp=aa_list.index(x)\n",
    "        temp_vector[temp]=1\n",
    "        block_matrix.append(temp_vector)\n",
    "    return(np.array(block_matrix))"
   ]
  },
  {
   "cell_type": "code",
   "execution_count": 56,
   "metadata": {},
   "outputs": [],
   "source": [
    "def ERMC_calculation_ultimate_science(weight_matrix,mutation_matrix,block_matrix,pp_matrix,total_weight,version):\n",
    "# The first input is a matrix with all the weight information, the second matrix contains the information of codon mutation, the thrid matrix contains the information for aa properties,\n",
    "# total_weight is used for calculating the average, version =1 will lead to the calcualtion that only consider positive cost, while version=2 will consider both positive and negative cost\n",
    "    # because my mutation matrix give wt codon coefficient of 1 while mutated codon coefficient of -1. I need to use the negative value    \n",
    "    mutation_matrix=-mutation_matrix\n",
    "    temp=mutation_matrix.dot(block_matrix.dot(pp_matrix))    \n",
    "    if version==1:\n",
    "        # only consider the postive cost\n",
    "        temp[temp<0]=0\n",
    "    return(np.sum(weight_matrix.dot(temp),axis=0)/total_weight)"
   ]
  },
  {
   "cell_type": "code",
   "execution_count": 57,
   "metadata": {},
   "outputs": [],
   "source": [
    "def frequency_weight_matrix_generator(mutation_pairs,frequency_dictionary):\n",
    "# mutation_paris store all possible pairs of mutations.\n",
    "# frequency_dictionary store frequency value for all codon\n",
    "    freq_list=[]\n",
    "    for x in mutation_pairs:\n",
    "        freq=frequency_dictionary[x[0]] # get the frequency according to the original codon\n",
    "        freq_list.append(freq)\n",
    "    return(np.diag(freq_list)/sum(freq_list))"
   ]
  },
  {
   "cell_type": "code",
   "execution_count": 58,
   "metadata": {},
   "outputs": [],
   "source": [
    "def read_benchmark(input_address):\n",
    "    temp_list=[]\n",
    "    with open(input_address,'r') as handler:\n",
    "        handler.readline()\n",
    "        temp=handler.readline().strip().split(',')\n",
    "        temp_list=[float(x) for x in temp]\n",
    "    return(temp_list)"
   ]
  },
  {
   "cell_type": "code",
   "execution_count": 59,
   "metadata": {},
   "outputs": [],
   "source": [
    "def read_real_data(input_address): # read ERMC data to store in a matrix\n",
    "    temp_matrix=[]\n",
    "    with open(input_address,'r') as handler:\n",
    "        handler.readline()\n",
    "        temp=handler.readline().strip()\n",
    "        while temp:\n",
    "            temp=handler.readline().strip()\n",
    "            temp_matrix.append([float(x) for x in temp.split(',')])\n",
    "            temp=handler.readline().strip()\n",
    "    return(np.array(temp_matrix))"
   ]
  },
  {
   "cell_type": "code",
   "execution_count": 60,
   "metadata": {},
   "outputs": [],
   "source": [
    "def ERMC_to_Rank_modified(ERMC_array,UGC_benchmark,header_name): # convert ERMC array to a rank array and convert the ERMC benchmark to rank\n",
    "# ERMC_array each row is a random codon, each column is a property\n",
    "    Rank_array=np.argsort(np.argsort(ERMC_array, axis=0),axis=0)+1\n",
    "    k=ERMC_array<UGC_benchmark\n",
    "    UGC_rank=np.sum(k,axis=0)\n",
    "    temp=np.sum(k[:,[0,2]],axis=1)\n",
    "    UGC_NC_rank=sum(temp==2)# This step is to find random genetic code that are better than UGC in both carbon and nitrogen\n",
    "    UGC_rank=np.append(UGC_rank,UGC_NC_rank)\n",
    "    UGC_output=header_name+\"_UGC\"\n",
    "    file_b=open(UGC_output,'w')\n",
    "    stringtowrite1=\"{}\\n\".format(','.join(['Carbon_number', 'Oxygen_number', 'Nitrogen_number','NC']))\n",
    "    file_b.write(stringtowrite1)\n",
    "    stringtowrite1=\"{}\\n\".format(','.join([str(x) for x in UGC_rank]))\n",
    "    file_b.write(stringtowrite1)\n",
    "    return(UGC_rank)\n",
    "    rank_output=header_name\n",
    "    file_a=open(rank_output,'w')\n",
    "    stringtowrite1=\"{}\\n\".format(','.join(p_name_list))\n",
    "    file_a.write(stringtowrite1) \n",
    "    for x in Rank_array:\n",
    "        stringtowrite=\"{}\\n\".format(','.join([str(i) for i in x]))\n",
    "        file_a.write(stringtowrite) \n",
    "    "
   ]
  },
  {
   "cell_type": "markdown",
   "metadata": {},
   "source": [
    "##  **1 Preparation**"
   ]
  },
  {
   "cell_type": "markdown",
   "metadata": {},
   "source": [
    "###  **1.1 Input**"
   ]
  },
  {
   "cell_type": "code",
   "execution_count": 3,
   "metadata": {},
   "outputs": [],
   "source": [
    "# This is the absolute path\n",
    "Path_ab2=\"Data/\"\n",
    "#  This is the aminoacid properties\n",
    "aa2=Path_ab2+'Nutrient_metrics.csv'\n",
    "Path_ab3=\"Output/\""
   ]
  },
  {
   "cell_type": "code",
   "execution_count": 4,
   "metadata": {},
   "outputs": [],
   "source": [
    "# nutrient data\n",
    "Nutrient_data=pd.read_csv(aa2)\n",
    "Nutrient_data.set_index('Amino acid',inplace=True)\n",
    "p_name_list=list(Nutrient_data.columns)\n",
    "#  random genetic code\n",
    "simulated_lib=Path_ab2+\"New_RGC_1e6\"\n",
    "#  codon frequency data\n",
    "codon_freq_address=Path_ab2+'ModelOrganisms.csv'"
   ]
  },
  {
   "cell_type": "code",
   "execution_count": 5,
   "metadata": {},
   "outputs": [],
   "source": [
    "# read the codon frequency information into a pandas dataframe\n",
    "codon_freq=pd.read_csv(codon_freq_address)\n",
    "# Drop unnecessary columns\n",
    "codon_freq=codon_freq.drop(columns=['Unnamed: 0','Assembly','Translation Table','Organelle','Division'])"
   ]
  },
  {
   "cell_type": "code",
   "execution_count": 6,
   "metadata": {},
   "outputs": [],
   "source": [
    "# this list contains the codon names\n",
    "codon_freq_name_list=codon_freq.columns[8:]"
   ]
  },
  {
   "cell_type": "markdown",
   "metadata": {},
   "source": [
    "###  **1.2 UGC structure**"
   ]
  },
  {
   "cell_type": "code",
   "execution_count": 31,
   "metadata": {},
   "outputs": [],
   "source": [
    "# make a dictionary, the codon is the key, while the aa one leter name is the value\n",
    "UGC_table = { \n",
    "'TTT':'F', 'TTC':'F', 'TTA':'L', 'TTG':'L', \n",
    "'TCT':'S', 'TCC':'S', 'TCA':'S', 'TCG':'S', \n",
    "'TAT':'Y', 'TAC':'Y', 'TAA':'_', 'TAG':'_', \n",
    "'TGT':'C', 'TGC':'C', 'TGA':'_', 'TGG':'W', \n",
    "'CTT':'L', 'CTC':'L', 'CTA':'L', 'CTG':'L', \n",
    "'CCT':'P', 'CCC':'P', 'CCA':'P', 'CCG':'P', \n",
    "'CAT':'H', 'CAC':'H', 'CAA':'Q', 'CAG':'Q', \n",
    "'CGT':'R', 'CGC':'R', 'CGA':'R', 'CGG':'R',     \n",
    "'ATT':'I', 'ATC':'I', 'ATA':'I', 'ATG':'M', \n",
    "'ACT':'T', 'ACC':'T', 'ACA':'T', 'ACG':'T', \n",
    "'AAT':'N', 'AAC':'N', 'AAA':'K', 'AAG':'K', \n",
    "'AGT':'S', 'AGC':'S', 'AGA':'R', 'AGG':'R',                  \n",
    "'GTT':'V', 'GTC':'V', 'GTA':'V', 'GTG':'V',  \n",
    "'GCT':'A', 'GCC':'A', 'GCA':'A', 'GCG':'A',\n",
    "'GAT':'D', 'GAC':'D', 'GAA':'E', 'GAG':'E', \n",
    "'GGT':'G', 'GGC':'G', 'GGA':'G', 'GGG':'G', \n",
    "       \n",
    "    } "
   ]
  },
  {
   "cell_type": "code",
   "execution_count": 29,
   "metadata": {},
   "outputs": [],
   "source": [
    "# Here I create a dictionary where the keys is the 4 element square block name. \n",
    "# The name is the order number from left to right. And from top to bottom.\n",
    "# '_' stand for the stop codon\n",
    "UGC_block_information={\n",
    "    '0':['F','F','L','L'],'1':['S','S','S','S'],'2':['Y','Y','_','_'],'3':['C','C','_','W'],'4':['L','L','L','L'],\n",
    "    '5':['P','P','P','P'],'6':['H','H','Q','Q'],'7':['R','R','R','R'],'8':['I','I','I','M'],'9':['T','T','T','T'],\n",
    "    '10':['N','N','K','K'],'11':['S','S','R','R'],'12':['V','V','V','V'],'13':['A','A','A','A'],'14':['D','D','E','E'],\n",
    "    '15':['G','G','G','G'],\n",
    "}"
   ]
  },
  {
   "cell_type": "code",
   "execution_count": 30,
   "metadata": {},
   "outputs": [],
   "source": [
    "# make a dictionary, the block name as the key, a list of condon correponding to this block is the value\n",
    "UGC_block={}\n",
    "for key,value in UGC_table.items():\n",
    "    if value in UGC_block.keys():\n",
    "        UGC_block[value].append(key)\n",
    "    else:\n",
    "        UGC_block[value]=[key]"
   ]
  },
  {
   "cell_type": "markdown",
   "metadata": {},
   "source": [
    "###  **1.3 Seperate species accoridng to kingdom**"
   ]
  },
  {
   "cell_type": "code",
   "execution_count": 20,
   "metadata": {},
   "outputs": [],
   "source": [
    "Bacteria_group=[2097,1423,562,354,100226]\n",
    "Extremophiles_group=[41673,272844,1917166,694429,3046,797304,243230]\n",
    "Unicelluar_Eukaryotes_group=[4896,4932,35128,162425,2903,3055]\n",
    "Plants_group=[3702,34305,3694,3218,4530,4577]\n",
    "Animals_group=[6239,8364,7070,7955,9031,9598,10181,10090,10116,8296,9615,9606,7227,9685,59729]"
   ]
  },
  {
   "cell_type": "code",
   "execution_count": 21,
   "metadata": {},
   "outputs": [],
   "source": [
    "Total_frequency_table=[Bacteria_group,Extremophiles_group,Unicelluar_Eukaryotes_group,Plants_group,Animals_group]\n",
    "Group_name_list=['Bacteria','Extremophiles','Unicelluar_Eukaryotes','Plants','Animals']"
   ]
  },
  {
   "cell_type": "markdown",
   "metadata": {},
   "source": [
    "##  **2 Calculation**"
   ]
  },
  {
   "cell_type": "markdown",
   "metadata": {},
   "source": [
    "###  **2.1 ERMC calculation**"
   ]
  },
  {
   "cell_type": "code",
   "execution_count": 9,
   "metadata": {},
   "outputs": [],
   "source": [
    "# input data list, the 64 codons, include the stop codon\n",
    "initial_list=[]\n",
    "for key,value in UGC_table.items():\n",
    "    initial_list.append(key)"
   ]
  },
  {
   "cell_type": "code",
   "execution_count": 15,
   "metadata": {},
   "outputs": [],
   "source": [
    "# Here I convert the property dataframe into a dic, the key is the one letter name for AA, and values are corresponding property value\n",
    "property_dic={}\n",
    "for index, row in Nutrient_data.iterrows():\n",
    "    property_dic[index]=[x for x in row] # The aa short name is a key and the propery is the value\n",
    "# adding the option of stop codon.\n",
    "property_dic['_']=[0,0,0]\n",
    "amino_acid_list=list(property_dic.keys())\n",
    "# property matrix generation\n",
    "UGC_pp_matrix=new_property_matrix_generator(property_dic.keys(),property_dic)"
   ]
  },
  {
   "cell_type": "code",
   "execution_count": 21,
   "metadata": {},
   "outputs": [],
   "source": [
    "# Generate a dict, the key is the original codon and the value is point mutated codon\n",
    "mutated_dic={}\n",
    "for x in initial_list:\n",
    "    l2=[] # substituted codon\n",
    "    for j in range(1,4):\n",
    "        l2.append([y for y in point_mutation(x,j)])\n",
    "    mutated_dic[x]=l2     \n",
    "\n",
    "#  list of all the mutation pairs\n",
    "sub_pair_p1=[] # p1 substitution\n",
    "sub_pair_p2=[] # p2 substitution\n",
    "sub_pair_p3=[] # p3 substitution\n",
    "sub_pair_all=[]\n",
    "for key,value in mutated_dic.items():\n",
    "    for x in value[0]:\n",
    "        sub_pair_p1.append([key,x])\n",
    "    for x in value[1]:\n",
    "        sub_pair_p2.append([key,x])\n",
    "    for x in value[2]:\n",
    "        sub_pair_p3.append([key,x])\n",
    "sub_pair_all=sub_pair_p1+sub_pair_p2+sub_pair_p3\n",
    "# output value"
   ]
  },
  {
   "cell_type": "code",
   "execution_count": 25,
   "metadata": {},
   "outputs": [],
   "source": [
    "# mutation matrics\n",
    "tt_sub_all=mutation_matrix_generator_science(sub_pair_all)"
   ]
  },
  {
   "cell_type": "code",
   "execution_count": 32,
   "metadata": {},
   "outputs": [],
   "source": [
    "# define a new list called block order\n",
    "block_order=list(UGC_block_information.keys())"
   ]
  },
  {
   "cell_type": "code",
   "execution_count": 33,
   "metadata": {},
   "outputs": [],
   "source": [
    "new_order=[]\n",
    "for x in block_order:\n",
    "    new_order+=UGC_block_information[x]"
   ]
  },
  {
   "cell_type": "code",
   "execution_count": 38,
   "metadata": {},
   "outputs": [],
   "source": [
    "new_block_matrix=block_matrix_generator_science(new_order,amino_acid_list)"
   ]
  },
  {
   "cell_type": "code",
   "execution_count": 43,
   "metadata": {},
   "outputs": [],
   "source": [
    "# ratio list for Ts/Tv bias\n",
    "ratio_list=[0.2,1/4,1/3,0.5,1,2,3,4,5]\n",
    "# I create a list to store dictionarys for Ts/Tv metrics\n",
    "TsTv_list=[]\n",
    "TsTv_list.append({1:2,2:5,3:1})\n",
    "Position_list=[]\n",
    "Position_list.append({1:0.5,2:0.1,3:1})\n",
    "for x in range(1,10):\n",
    "    temp_dict={1:ratio_list[x-1],2:ratio_list[x-1],3:ratio_list[x-1]}\n",
    "    TsTv_list.append(temp_dict)\n",
    "    Position_list.append({1:1,2:1,3:1})"
   ]
  },
  {
   "cell_type": "code",
   "execution_count": 30,
   "metadata": {},
   "outputs": [],
   "source": [
    "import os"
   ]
  },
  {
   "cell_type": "markdown",
   "metadata": {},
   "source": [
    "###  **2.2 Output individual file**"
   ]
  },
  {
   "cell_type": "code",
   "execution_count": 31,
   "metadata": {},
   "outputs": [
    {
     "name": "stdout",
     "output_type": "stream",
     "text": [
      "21:30:20\n",
      "04:51:15\n",
      "10:53:20\n",
      "17:36:29\n",
      "09:51:38\n"
     ]
    }
   ],
   "source": [
    "####  **1.2.1 nERMC output**\n",
    "Total_pvalue_dic={}\n",
    "for num,species_group in enumerate(Group_name_list):\n",
    "    temp_suffix=species_group\n",
    "    temp_group=Total_frequency_table[num]\n",
    "    temp_pvalue_dic={}\n",
    "    General_path=Path_ab3+'1e6_Figure4_NC/'+temp_suffix+'/'\n",
    "    if not os.path.isdir(General_path):\n",
    "        os.mkdir(General_path)\n",
    "    for species_taxid in temp_group:\n",
    "        species_name=codon_freq[codon_freq['Taxid']==species_taxid].iloc[0,]['Species']\n",
    "        UGC_rank_summary=[]\n",
    "        # this is for generating frequency matrix\n",
    "        freq_value=codon_freq[codon_freq['Taxid']==species_taxid].iloc[0, 8:]\n",
    "        temp_freq_dic={}\n",
    "        for name,value in zip(codon_freq_name_list,freq_value):\n",
    "            temp_freq_dic[name]=value\n",
    "        sub_general_path=General_path+species_name+'/'\n",
    "        if not os.path.isdir(sub_general_path):\n",
    "            os.mkdir(sub_general_path)\n",
    "        for idx,item in enumerate(TsTv_list):\n",
    "            sv_list=item\n",
    "            po_list=Position_list[idx]\n",
    "            name_suffix='_set'+str(idx)\n",
    "            # \n",
    "            #  UGC\n",
    "            UGC_tsub_ERMC_address=sub_general_path+'UGC_tsub_ERMC'+name_suffix\n",
    "            # As for now I only have one output category\n",
    "            UGC_output_summary=[UGC_tsub_ERMC_address]\n",
    "\n",
    "            # 1e6 random genetic code        \n",
    "            tsub_ERMC_address=sub_general_path+'1e6_tsub_ERMC'+name_suffix\n",
    "            output_summary=[tsub_ERMC_address]\n",
    "\n",
    "            ####  **1.2.1 Rank and Pvalue output**\n",
    "            Output_tsub_address=sub_general_path+'1e6_tsub_Rank'+name_suffix\n",
    "\n",
    "\n",
    "            # This generate the weight matrix that consider both position effect and Ts/Tv bias\n",
    "            weight_matrix_tsub_all=np.diag([1]*len(sub_pair_all)).dot(Ts_Tv_position_matrix_generator(sub_pair_all,sv_list,po_list))\n",
    "\n",
    "            temp_freq_matrix=frequency_weight_matrix_generator(sub_pair_all,temp_freq_dic)\n",
    "            weight_matrix_tsub_all=weight_matrix_tsub_all.dot(temp_freq_matrix)\n",
    "            trace_tsub_all=weight_matrix_tsub_all.trace()\n",
    "\n",
    "            ERMC_tsub=ERMC_calculation_ultimate_science(weight_matrix_tsub_all,tt_sub_all,new_block_matrix,UGC_pp_matrix,trace_tsub_all,2)\n",
    "\n",
    "            ERMC_summary=[ERMC_tsub]\n",
    "\n",
    "            for x,y in zip(UGC_output_summary,ERMC_summary):\n",
    "                file_a=open(x,'w')\n",
    "                file_a.write(','.join([x for x in Nutrient_data.columns]))\n",
    "                file_a.write('\\n')\n",
    "                stringtowrite=\"{}\\n\".format(','.join([str(i) for i in y]))\n",
    "                file_a.write(stringtowrite)\n",
    "                file_a.close()\n",
    "\n",
    "\n",
    "\n",
    "            # This is output file for random code \n",
    "            file_list=[]\n",
    "            for x in output_summary:\n",
    "                file_list.append(open(x,'w'))\n",
    "            for x in file_list:\n",
    "                x.write(','.join([x for x in Nutrient_data.columns]))\n",
    "                x.write('\\n')\n",
    "\n",
    "            with open(simulated_lib,'r')as handler:\n",
    "                temp=handler.readline().strip()\n",
    "                while temp:\n",
    "                    s_list=temp.split(',') \n",
    "                    # Here I new order into a new block matrix\n",
    "                    new_order=[]\n",
    "                    for x in s_list:\n",
    "                        new_order+=UGC_block_information[x]\n",
    "                    temp_new_block_matrix=block_matrix_generator_science(new_order,amino_acid_list)\n",
    "                    ERMC_tsub=ERMC_calculation_ultimate_science(weight_matrix_tsub_all,tt_sub_all,temp_new_block_matrix,UGC_pp_matrix,trace_tsub_all,2)\n",
    "                    ERMC_summary=[ERMC_tsub]\n",
    "                    for x,y in zip(file_list,ERMC_summary):                           \n",
    "                        x.write(temp.replace(',', '')+'\\n')\n",
    "                        stringtowrite=\"{}\\n\".format(','.join([str(i) for i in y]))\n",
    "                        x.write(stringtowrite)                                       \n",
    "                    temp=handler.readline().strip()\n",
    "\n",
    "            for x in file_list:\n",
    "                x.close()\n",
    "            # read UGC data for ERMC\n",
    "            UGC_tsub_ERMC=read_benchmark(UGC_tsub_ERMC_address)\n",
    "            # read random genetic code data for ERMC\n",
    "            tsub_ERMC=read_real_data(tsub_ERMC_address)\n",
    "            UGC_rank_summary.append(ERMC_to_Rank_modified(tsub_ERMC,UGC_tsub_ERMC,Output_tsub_address)/1e6)\n",
    "        temp_pvalue_dic[species_name]=UGC_rank_summary\n",
    "    t = time.localtime()\n",
    "    current_time = time.strftime(\"%H:%M:%S\", t)\n",
    "    print(current_time)\n",
    "    Total_pvalue_dic[species_group]=temp_pvalue_dic"
   ]
  },
  {
   "cell_type": "markdown",
   "metadata": {},
   "source": [
    "###  **2.3 Output pvalue into json file**"
   ]
  },
  {
   "cell_type": "code",
   "execution_count": 97,
   "metadata": {},
   "outputs": [],
   "source": [
    "import json"
   ]
  },
  {
   "cell_type": "code",
   "execution_count": 98,
   "metadata": {},
   "outputs": [],
   "source": [
    "class NumpyEncoder(json.JSONEncoder):\n",
    "    def default(self, obj):\n",
    "        if isinstance(obj, np.ndarray):\n",
    "            return obj.tolist()\n",
    "        return json.JSONEncoder.default(self, obj)\n",
    "json_dump = json.dumps(Total_pvalue_dic, cls=NumpyEncoder)"
   ]
  },
  {
   "cell_type": "code",
   "execution_count": 99,
   "metadata": {},
   "outputs": [],
   "source": [
    "pvalue_dic_address=Path_ab2+'1e6_NC_pvalue_dictionary.json'\n",
    "with open(pvalue_dic_address, 'w') as f:\n",
    "    json.dump(json_dump, f)"
   ]
  }
 ],
 "metadata": {
  "kernelspec": {
   "display_name": "Python 3",
   "language": "python",
   "name": "python3"
  },
  "language_info": {
   "codemirror_mode": {
    "name": "ipython",
    "version": 3
   },
   "file_extension": ".py",
   "mimetype": "text/x-python",
   "name": "python",
   "nbconvert_exporter": "python",
   "pygments_lexer": "ipython3",
   "version": "3.7.6"
  }
 },
 "nbformat": 4,
 "nbformat_minor": 4
}
